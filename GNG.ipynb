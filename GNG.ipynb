{
 "cells": [
  {
   "cell_type": "markdown",
   "metadata": {},
   "source": [
    "### 😂استدعيت كل المكتبات الي لقيتها في وشي "
   ]
  },
  {
   "cell_type": "code",
   "execution_count": 3,
   "metadata": {},
   "outputs": [
    {
     "name": "stderr",
     "output_type": "stream",
     "text": [
      "Using TensorFlow backend.\n"
     ]
    }
   ],
   "source": [
    "import keras\n",
    "from keras import backend as K\n",
    "from keras.layers.core import Dense, Activation\n",
    "from keras.optimizers import Adam\n",
    "from keras.metrics import categorical_crossentropy\n",
    "from keras.preprocessing.image import ImageDataGenerator\n",
    "from keras.preprocessing import image\n",
    "from keras.models import Model\n",
    "from keras.applications import imagenet_utils\n",
    "from keras.layers import Dense,GlobalAveragePooling2D\n",
    "from keras.applications import MobileNet\n",
    "from keras.applications.mobilenet import preprocess_input\n",
    "import numpy as np\n",
    "from IPython.display import Image\n",
    "from keras.optimizers import Adam\n",
    "from keras.models import Sequential\n",
    "from keras.layers import Dense, Conv2D, Flatten, MaxPooling2D"
   ]
  },
  {
   "cell_type": "markdown",
   "metadata": {},
   "source": [
    "### بعدين جبت الداتا الي حادرب الموديل عليها"
   ]
  },
  {
   "cell_type": "code",
   "execution_count": 33,
   "metadata": {
    "scrolled": false
   },
   "outputs": [
    {
     "name": "stdout",
     "output_type": "stream",
     "text": [
      "Found 322 images belonging to 2 classes.\n"
     ]
    }
   ],
   "source": [
    "trainBats = ImageDataGenerator(rescale=1./255,rotation_range=40,width_shift_range=0.2,height_shift_range=0.2,shear_range=0.2,zoom_range=0.2,horizontal_flip=True).flow_from_directory('train/',target_size=(150,150),batch_size=20,class_mode='binary')"
   ]
  },
  {
   "cell_type": "code",
   "execution_count": 34,
   "metadata": {},
   "outputs": [
    {
     "name": "stdout",
     "output_type": "stream",
     "text": [
      "Found 100 images belonging to 2 classes.\n"
     ]
    }
   ],
   "source": [
    "valisBats = ImageDataGenerator().flow_from_directory('valid/',target_size=(150,150),batch_size=20,class_mode='binary')"
   ]
  },
  {
   "cell_type": "markdown",
   "metadata": {},
   "source": [
    "### بعدين عملت الموديل الي طلع عيني 😡 قعدت اغير فيه واضيف واحذف يومين لحد ما اخيرا عرفت اعمل موديل اداني دقه اعلى من 50 في الميه "
   ]
  },
  {
   "cell_type": "code",
   "execution_count": 35,
   "metadata": {},
   "outputs": [
    {
     "name": "stdout",
     "output_type": "stream",
     "text": [
      "_________________________________________________________________\n",
      "Layer (type)                 Output Shape              Param #   \n",
      "=================================================================\n",
      "conv2d_28 (Conv2D)           (None, 148, 148, 32)      896       \n",
      "_________________________________________________________________\n",
      "max_pooling2d_28 (MaxPooling (None, 74, 74, 32)        0         \n",
      "_________________________________________________________________\n",
      "conv2d_29 (Conv2D)           (None, 72, 72, 64)        18496     \n",
      "_________________________________________________________________\n",
      "max_pooling2d_29 (MaxPooling (None, 36, 36, 64)        0         \n",
      "_________________________________________________________________\n",
      "conv2d_30 (Conv2D)           (None, 34, 34, 128)       73856     \n",
      "_________________________________________________________________\n",
      "max_pooling2d_30 (MaxPooling (None, 17, 17, 128)       0         \n",
      "_________________________________________________________________\n",
      "conv2d_31 (Conv2D)           (None, 15, 15, 128)       147584    \n",
      "_________________________________________________________________\n",
      "max_pooling2d_31 (MaxPooling (None, 7, 7, 128)         0         \n",
      "_________________________________________________________________\n",
      "flatten_8 (Flatten)          (None, 6272)              0         \n",
      "_________________________________________________________________\n",
      "dropout_2 (Dropout)          (None, 6272)              0         \n",
      "_________________________________________________________________\n",
      "dense_15 (Dense)             (None, 512)               3211776   \n",
      "_________________________________________________________________\n",
      "dense_16 (Dense)             (None, 1)                 513       \n",
      "=================================================================\n",
      "Total params: 3,453,121\n",
      "Trainable params: 3,453,121\n",
      "Non-trainable params: 0\n",
      "_________________________________________________________________\n"
     ]
    }
   ],
   "source": [
    "model = Sequential()\n",
    "model.add(Conv2D(32,(3,3),activation='relu',input_shape=(150,150,3)))\n",
    "model.add(MaxPooling2D(2,2))\n",
    "model.add(Conv2D(64,(3,3),activation='relu'))\n",
    "model.add(MaxPooling2D(2,2))\n",
    "model.add(Conv2D(128,(3,3),activation='relu'))\n",
    "model.add(MaxPooling2D(2,2))\n",
    "model.add(Conv2D(128,(3,3),activation='relu'))\n",
    "model.add(MaxPooling2D(2,2))\n",
    "model.add(Flatten())\n",
    "model.add(keras.layers.Dropout(0.5))\n",
    "model.add(Dense(512,activation='relu'))\n",
    "model.add(Dense(1,activation='sigmoid'))\n",
    "model.summary()"
   ]
  },
  {
   "cell_type": "code",
   "execution_count": 36,
   "metadata": {},
   "outputs": [],
   "source": [
    "from keras import optimizers\n",
    "model.compile(optimizer=optimizers.RMSprop(lr=1e-4),loss='binary_crossentropy',metrics=['acc'])"
   ]
  },
  {
   "cell_type": "markdown",
   "metadata": {},
   "source": [
    "### هنا كنت بادرب الموديل كل مره بعد ما اغير فيه"
   ]
  },
  {
   "cell_type": "code",
   "execution_count": 37,
   "metadata": {
    "scrolled": false
   },
   "outputs": [
    {
     "name": "stdout",
     "output_type": "stream",
     "text": [
      "Epoch 1/30\n",
      "16/16 [==============================] - 49s 3s/step - loss: 0.6952 - acc: 0.5437 - val_loss: 8.0590 - val_acc: 0.5000\n",
      "Epoch 2/30\n",
      "16/16 [==============================] - 35s 2s/step - loss: 0.6969 - acc: 0.5296 - val_loss: 7.9712 - val_acc: 0.5000\n",
      "Epoch 3/30\n",
      "16/16 [==============================] - 42s 3s/step - loss: 0.7001 - acc: 0.4704 - val_loss: 8.0038 - val_acc: 0.5000\n",
      "Epoch 4/30\n",
      "16/16 [==============================] - 43s 3s/step - loss: 0.6941 - acc: 0.5094 - val_loss: 2.2916 - val_acc: 0.7400\n",
      "Epoch 5/30\n",
      "16/16 [==============================] - 38s 2s/step - loss: 0.6859 - acc: 0.5672 - val_loss: 7.6969 - val_acc: 0.5000\n",
      "Epoch 6/30\n",
      "16/16 [==============================] - 40s 3s/step - loss: 0.6732 - acc: 0.6066 - val_loss: 8.0590 - val_acc: 0.5000\n",
      "Epoch 7/30\n",
      "16/16 [==============================] - 41s 3s/step - loss: 0.6803 - acc: 0.5735 - val_loss: 2.7663 - val_acc: 0.7600\n",
      "Epoch 8/30\n",
      "16/16 [==============================] - 37s 2s/step - loss: 0.6711 - acc: 0.5551 - val_loss: 8.0137 - val_acc: 0.5000\n",
      "Epoch 9/30\n",
      "16/16 [==============================] - 35s 2s/step - loss: 0.6516 - acc: 0.6098 - val_loss: 6.5670 - val_acc: 0.5800\n",
      "Epoch 10/30\n",
      "16/16 [==============================] - 36s 2s/step - loss: 0.6467 - acc: 0.6488 - val_loss: 2.9337 - val_acc: 0.8100\n",
      "Epoch 11/30\n",
      "16/16 [==============================] - 36s 2s/step - loss: 0.6182 - acc: 0.6554 - val_loss: 4.7983 - val_acc: 0.6800\n",
      "Epoch 12/30\n",
      "16/16 [==============================] - 36s 2s/step - loss: 0.5965 - acc: 0.6756 - val_loss: 6.1429 - val_acc: 0.6100\n",
      "Epoch 13/30\n",
      "16/16 [==============================] - 36s 2s/step - loss: 0.5561 - acc: 0.7146 - val_loss: 2.3799 - val_acc: 0.8400\n",
      "Epoch 14/30\n",
      "16/16 [==============================] - 36s 2s/step - loss: 0.5323 - acc: 0.7178 - val_loss: 2.6172 - val_acc: 0.8300\n",
      "Epoch 15/30\n",
      "16/16 [==============================] - 36s 2s/step - loss: 0.6250 - acc: 0.6425 - val_loss: 6.6789 - val_acc: 0.5800\n",
      "Epoch 16/30\n",
      "16/16 [==============================] - 42s 3s/step - loss: 0.5693 - acc: 0.7038 - val_loss: 7.4096 - val_acc: 0.5300\n",
      "Epoch 17/30\n",
      "16/16 [==============================] - 47s 3s/step - loss: 0.5626 - acc: 0.6976 - val_loss: 4.9439 - val_acc: 0.6900\n",
      "Epoch 18/30\n",
      "16/16 [==============================] - 48s 3s/step - loss: 0.5186 - acc: 0.7406 - val_loss: 3.9937 - val_acc: 0.7500\n",
      "Epoch 19/30\n",
      "16/16 [==============================] - 45s 3s/step - loss: 0.5303 - acc: 0.7805 - val_loss: 3.9222 - val_acc: 0.7500\n",
      "Epoch 20/30\n",
      "16/16 [==============================] - 36s 2s/step - loss: 0.5604 - acc: 0.7352 - val_loss: 6.5614 - val_acc: 0.5900\n",
      "Epoch 21/30\n",
      "16/16 [==============================] - 37s 2s/step - loss: 0.5162 - acc: 0.7460 - val_loss: 2.4858 - val_acc: 0.8400\n",
      "Epoch 22/30\n",
      "16/16 [==============================] - 36s 2s/step - loss: 0.4712 - acc: 0.7554 - val_loss: 4.5941 - val_acc: 0.7100\n",
      "Epoch 23/30\n",
      "16/16 [==============================] - 36s 2s/step - loss: 0.4588 - acc: 0.7648 - val_loss: 2.3071 - val_acc: 0.8500\n",
      "Epoch 24/30\n",
      "16/16 [==============================] - 36s 2s/step - loss: 0.4630 - acc: 0.7868 - val_loss: 2.6523 - val_acc: 0.8300\n",
      "Epoch 25/30\n",
      "16/16 [==============================] - 36s 2s/step - loss: 0.4813 - acc: 0.7617 - val_loss: 4.3276 - val_acc: 0.7300\n",
      "Epoch 26/30\n",
      "16/16 [==============================] - 36s 2s/step - loss: 0.3950 - acc: 0.8369 - val_loss: 3.3813 - val_acc: 0.7900\n",
      "Epoch 27/30\n",
      "16/16 [==============================] - 36s 2s/step - loss: 0.5553 - acc: 0.7711 - val_loss: 2.0794 - val_acc: 0.8500\n",
      "Epoch 28/30\n",
      "16/16 [==============================] - 39s 2s/step - loss: 0.3902 - acc: 0.8244 - val_loss: 2.3436 - val_acc: 0.8500\n",
      "Epoch 29/30\n",
      "16/16 [==============================] - 50s 3s/step - loss: 0.4877 - acc: 0.7634 - val_loss: 5.7920 - val_acc: 0.6400\n",
      "Epoch 30/30\n",
      "16/16 [==============================] - 43s 3s/step - loss: 0.4750 - acc: 0.7885 - val_loss: 2.8038 - val_acc: 0.8200\n"
     ]
    },
    {
     "data": {
      "text/plain": [
       "<keras.callbacks.History at 0x1e1510b7dd8>"
      ]
     },
     "execution_count": 37,
     "metadata": {},
     "output_type": "execute_result"
    }
   ],
   "source": [
    "model.fit_generator(trainBats,steps_per_epoch=16,validation_data=valisBats,validation_steps=5,epochs=30)"
   ]
  },
  {
   "cell_type": "markdown",
   "metadata": {},
   "source": [
    "### لما اخيرا بدأت الدقه تزيد رحت حفظته ورجعت حملته تاني وكملت تدريب عليه اديته 100 لفه كمان"
   ]
  },
  {
   "cell_type": "code",
   "execution_count": 38,
   "metadata": {},
   "outputs": [],
   "source": [
    "model.save('gng_small.h5')"
   ]
  },
  {
   "cell_type": "code",
   "execution_count": 10,
   "metadata": {},
   "outputs": [
    {
     "name": "stdout",
     "output_type": "stream",
     "text": [
      "_________________________________________________________________\n",
      "Layer (type)                 Output Shape              Param #   \n",
      "=================================================================\n",
      "conv2d_28 (Conv2D)           (None, 148, 148, 32)      896       \n",
      "_________________________________________________________________\n",
      "max_pooling2d_28 (MaxPooling (None, 74, 74, 32)        0         \n",
      "_________________________________________________________________\n",
      "conv2d_29 (Conv2D)           (None, 72, 72, 64)        18496     \n",
      "_________________________________________________________________\n",
      "max_pooling2d_29 (MaxPooling (None, 36, 36, 64)        0         \n",
      "_________________________________________________________________\n",
      "conv2d_30 (Conv2D)           (None, 34, 34, 128)       73856     \n",
      "_________________________________________________________________\n",
      "max_pooling2d_30 (MaxPooling (None, 17, 17, 128)       0         \n",
      "_________________________________________________________________\n",
      "conv2d_31 (Conv2D)           (None, 15, 15, 128)       147584    \n",
      "_________________________________________________________________\n",
      "max_pooling2d_31 (MaxPooling (None, 7, 7, 128)         0         \n",
      "_________________________________________________________________\n",
      "flatten_8 (Flatten)          (None, 6272)              0         \n",
      "_________________________________________________________________\n",
      "dropout_2 (Dropout)          (None, 6272)              0         \n",
      "_________________________________________________________________\n",
      "dense_15 (Dense)             (None, 512)               3211776   \n",
      "_________________________________________________________________\n",
      "dense_16 (Dense)             (None, 1)                 513       \n",
      "=================================================================\n",
      "Total params: 3,453,121\n",
      "Trainable params: 3,453,121\n",
      "Non-trainable params: 0\n",
      "_________________________________________________________________\n"
     ]
    }
   ],
   "source": [
    "model = keras.models.load_model('gng_small.h5')\n",
    "model.summary()"
   ]
  },
  {
   "cell_type": "code",
   "execution_count": 41,
   "metadata": {
    "scrolled": false
   },
   "outputs": [
    {
     "name": "stdout",
     "output_type": "stream",
     "text": [
      "Epoch 1/100\n",
      "16/16 [==============================] - 44s 3s/step - loss: 0.4542 - acc: 0.8167 - val_loss: 5.8008 - val_acc: 0.6400\n",
      "Epoch 2/100\n",
      "16/16 [==============================] - 39s 2s/step - loss: 0.3829 - acc: 0.8307 - val_loss: 2.7105 - val_acc: 0.8300\n",
      "Epoch 3/100\n",
      "16/16 [==============================] - 40s 3s/step - loss: 0.4173 - acc: 0.8213 - val_loss: 5.6396 - val_acc: 0.6500\n",
      "Epoch 4/100\n",
      "16/16 [==============================] - 35s 2s/step - loss: 0.4380 - acc: 0.8087 - val_loss: 4.6690 - val_acc: 0.7100\n",
      "Epoch 5/100\n",
      "16/16 [==============================] - 36s 2s/step - loss: 0.4027 - acc: 0.8432 - val_loss: 4.6725 - val_acc: 0.7100\n",
      "Epoch 6/100\n",
      "16/16 [==============================] - 36s 2s/step - loss: 0.4136 - acc: 0.8401 - val_loss: 4.0260 - val_acc: 0.7500\n",
      "Epoch 7/100\n",
      "16/16 [==============================] - 36s 2s/step - loss: 0.4069 - acc: 0.8181 - val_loss: 1.9330 - val_acc: 0.8800\n",
      "Epoch 8/100\n",
      "16/16 [==============================] - 39s 2s/step - loss: 0.3739 - acc: 0.8450 - val_loss: 2.6613 - val_acc: 0.8300\n",
      "Epoch 9/100\n",
      "16/16 [==============================] - 50s 3s/step - loss: 0.4452 - acc: 0.8307 - val_loss: 2.4154 - val_acc: 0.8500\n",
      "Epoch 10/100\n",
      "16/16 [==============================] - 50s 3s/step - loss: 0.3287 - acc: 0.8714 - val_loss: 6.6070 - val_acc: 0.5900\n",
      "Epoch 11/100\n",
      "16/16 [==============================] - 45s 3s/step - loss: 0.3770 - acc: 0.8401 - val_loss: 1.9380 - val_acc: 0.8600\n",
      "Epoch 12/100\n",
      "16/16 [==============================] - 46s 3s/step - loss: 0.3843 - acc: 0.8463 - val_loss: 4.2617 - val_acc: 0.7300\n",
      "Epoch 13/100\n",
      "16/16 [==============================] - 42s 3s/step - loss: 0.3216 - acc: 0.8840 - val_loss: 2.5786 - val_acc: 0.8400\n",
      "Epoch 14/100\n",
      "16/16 [==============================] - 42s 3s/step - loss: 0.3324 - acc: 0.8495 - val_loss: 4.6725 - val_acc: 0.7100\n",
      "Epoch 15/100\n",
      "16/16 [==============================] - 46s 3s/step - loss: 0.3098 - acc: 0.8777 - val_loss: 3.9909 - val_acc: 0.7400\n",
      "Epoch 16/100\n",
      "16/16 [==============================] - 47s 3s/step - loss: 0.3341 - acc: 0.8563 - val_loss: 3.7838 - val_acc: 0.7400\n",
      "Epoch 17/100\n",
      "16/16 [==============================] - 43s 3s/step - loss: 0.3149 - acc: 0.8683 - val_loss: 1.4755 - val_acc: 0.9000\n",
      "Epoch 18/100\n",
      "16/16 [==============================] - 42s 3s/step - loss: 0.3301 - acc: 0.8589 - val_loss: 2.4002 - val_acc: 0.8500\n",
      "Epoch 19/100\n",
      "16/16 [==============================] - 44s 3s/step - loss: 0.2647 - acc: 0.8889 - val_loss: 1.6013 - val_acc: 0.9000\n",
      "Epoch 20/100\n",
      "16/16 [==============================] - 42s 3s/step - loss: 0.3591 - acc: 0.8324 - val_loss: 3.3796 - val_acc: 0.7900\n",
      "Epoch 21/100\n",
      "16/16 [==============================] - 51s 3s/step - loss: 0.2382 - acc: 0.9247 - val_loss: 1.4454 - val_acc: 0.9100\n",
      "Epoch 22/100\n",
      "16/16 [==============================] - 56s 3s/step - loss: 0.4225 - acc: 0.8136 - val_loss: 2.6597 - val_acc: 0.8300\n",
      "Epoch 23/100\n",
      "16/16 [==============================] - 49s 3s/step - loss: 0.2095 - acc: 0.9216 - val_loss: 2.7383 - val_acc: 0.8300\n",
      "Epoch 24/100\n",
      "16/16 [==============================] - 46s 3s/step - loss: 0.2307 - acc: 0.9216 - val_loss: 4.9931 - val_acc: 0.6900\n",
      "Epoch 25/100\n",
      "16/16 [==============================] - 45s 3s/step - loss: 0.4194 - acc: 0.7934 - val_loss: 2.9241 - val_acc: 0.8100\n",
      "Epoch 26/100\n",
      "16/16 [==============================] - 44s 3s/step - loss: 0.2389 - acc: 0.9028 - val_loss: 5.6883 - val_acc: 0.6400\n",
      "Epoch 27/100\n",
      "16/16 [==============================] - 44s 3s/step - loss: 0.3133 - acc: 0.8683 - val_loss: 3.7036 - val_acc: 0.7700\n",
      "Epoch 28/100\n",
      "16/16 [==============================] - 45s 3s/step - loss: 0.2667 - acc: 0.9279 - val_loss: 2.3998 - val_acc: 0.8500\n",
      "Epoch 29/100\n",
      "16/16 [==============================] - 41s 3s/step - loss: 0.1804 - acc: 0.9247 - val_loss: 3.4201 - val_acc: 0.7800\n",
      "Epoch 30/100\n",
      "16/16 [==============================] - 47s 3s/step - loss: 0.2618 - acc: 0.8808 - val_loss: 2.9611 - val_acc: 0.8100\n",
      "Epoch 31/100\n",
      "16/16 [==============================] - 47s 3s/step - loss: 0.2168 - acc: 0.9091 - val_loss: 2.6648 - val_acc: 0.8300\n",
      "Epoch 32/100\n",
      "16/16 [==============================] - 45s 3s/step - loss: 0.2243 - acc: 0.9216 - val_loss: 4.6725 - val_acc: 0.7100\n",
      "Epoch 33/100\n",
      "16/16 [==============================] - 52s 3s/step - loss: 0.3298 - acc: 0.8375 - val_loss: 1.5070 - val_acc: 0.9000\n",
      "Epoch 34/100\n",
      "16/16 [==============================] - 49s 3s/step - loss: 0.2225 - acc: 0.9279 - val_loss: 4.9555 - val_acc: 0.6900\n",
      "Epoch 35/100\n",
      "16/16 [==============================] - 53s 3s/step - loss: 0.1727 - acc: 0.9373 - val_loss: 1.8455 - val_acc: 0.8800\n",
      "Epoch 36/100\n",
      "16/16 [==============================] - 53s 3s/step - loss: 0.2650 - acc: 0.9059 - val_loss: 1.9307 - val_acc: 0.8800\n",
      "Epoch 37/100\n",
      "16/16 [==============================] - 37s 2s/step - loss: 0.2028 - acc: 0.9216 - val_loss: 2.2477 - val_acc: 0.8600\n",
      "Epoch 38/100\n",
      "16/16 [==============================] - 37s 2s/step - loss: 0.1803 - acc: 0.9373 - val_loss: 1.4418 - val_acc: 0.9100\n",
      "Epoch 39/100\n",
      "16/16 [==============================] - 41s 3s/step - loss: 0.2352 - acc: 0.8871 - val_loss: 2.7874 - val_acc: 0.8200\n",
      "Epoch 40/100\n",
      "16/16 [==============================] - 43s 3s/step - loss: 0.2825 - acc: 0.8669 - val_loss: 1.6013 - val_acc: 0.9000\n",
      "Epoch 41/100\n",
      "16/16 [==============================] - 38s 2s/step - loss: 0.1631 - acc: 0.9498 - val_loss: 3.3900 - val_acc: 0.7800\n",
      "Epoch 42/100\n",
      "16/16 [==============================] - 46s 3s/step - loss: 0.2613 - acc: 0.8871 - val_loss: 1.6104 - val_acc: 0.8900\n",
      "Epoch 43/100\n",
      "16/16 [==============================] - 46s 3s/step - loss: 0.1814 - acc: 0.9310 - val_loss: 3.0607 - val_acc: 0.8100\n",
      "Epoch 44/100\n",
      "16/16 [==============================] - 45s 3s/step - loss: 0.1551 - acc: 0.9498 - val_loss: 1.2807 - val_acc: 0.9200\n",
      "Epoch 45/100\n",
      "16/16 [==============================] - 45s 3s/step - loss: 0.2556 - acc: 0.8920 - val_loss: 1.7660 - val_acc: 0.8900\n",
      "Epoch 46/100\n",
      "16/16 [==============================] - 44s 3s/step - loss: 0.1359 - acc: 0.9498 - val_loss: 1.6030 - val_acc: 0.9000\n",
      "Epoch 47/100\n",
      "16/16 [==============================] - 42s 3s/step - loss: 0.2152 - acc: 0.9153 - val_loss: 1.2895 - val_acc: 0.9200\n",
      "Epoch 48/100\n",
      "16/16 [==============================] - 44s 3s/step - loss: 0.2010 - acc: 0.9108 - val_loss: 2.0883 - val_acc: 0.8700\n",
      "Epoch 49/100\n",
      "16/16 [==============================] - 44s 3s/step - loss: 0.1875 - acc: 0.9310 - val_loss: 1.6030 - val_acc: 0.9000\n",
      "Epoch 50/100\n",
      "16/16 [==============================] - 42s 3s/step - loss: 0.1488 - acc: 0.9531 - val_loss: 1.7642 - val_acc: 0.8900\n",
      "Epoch 51/100\n",
      "16/16 [==============================] - 47s 3s/step - loss: 0.1861 - acc: 0.9436 - val_loss: 1.7695 - val_acc: 0.8900\n",
      "Epoch 52/100\n",
      "16/16 [==============================] - 44s 3s/step - loss: 0.1673 - acc: 0.9279 - val_loss: 1.9219 - val_acc: 0.8800\n",
      "Epoch 53/100\n",
      "16/16 [==============================] - 43s 3s/step - loss: 0.1778 - acc: 0.9467 - val_loss: 3.3848 - val_acc: 0.7900\n",
      "Epoch 54/100\n",
      "16/16 [==============================] - 46s 3s/step - loss: 0.2140 - acc: 0.9122 - val_loss: 1.6083 - val_acc: 0.9000\n",
      "Epoch 55/100\n",
      "16/16 [==============================] - 49s 3s/step - loss: 0.1207 - acc: 0.9467 - val_loss: 3.1885 - val_acc: 0.8000\n",
      "Epoch 56/100\n",
      "16/16 [==============================] - 45s 3s/step - loss: 0.1782 - acc: 0.9373 - val_loss: 2.4175 - val_acc: 0.8500\n",
      "Epoch 57/100\n",
      "16/16 [==============================] - 43s 3s/step - loss: 0.1997 - acc: 0.9373 - val_loss: 1.3995 - val_acc: 0.9100\n",
      "Epoch 58/100\n",
      "16/16 [==============================] - 42s 3s/step - loss: 0.0854 - acc: 0.9812 - val_loss: 1.2808 - val_acc: 0.9200\n",
      "Epoch 59/100\n",
      "16/16 [==============================] - 40s 3s/step - loss: 0.1887 - acc: 0.9185 - val_loss: 1.6013 - val_acc: 0.9000\n",
      "Epoch 60/100\n",
      "16/16 [==============================] - 38s 2s/step - loss: 0.1415 - acc: 0.9436 - val_loss: 1.9236 - val_acc: 0.8800\n",
      "Epoch 61/100\n",
      "16/16 [==============================] - 42s 3s/step - loss: 0.0699 - acc: 0.9780 - val_loss: 1.7660 - val_acc: 0.8900\n",
      "Epoch 62/100\n",
      "16/16 [==============================] - 42s 3s/step - loss: 0.2340 - acc: 0.8951 - val_loss: 0.7989 - val_acc: 0.9500\n",
      "Epoch 63/100\n",
      "16/16 [==============================] - 44s 3s/step - loss: 0.0791 - acc: 0.9749 - val_loss: 1.5310 - val_acc: 0.9000\n",
      "Epoch 64/100\n",
      "16/16 [==============================] - 42s 3s/step - loss: 0.1551 - acc: 0.9310 - val_loss: 1.4401 - val_acc: 0.9100\n",
      "Epoch 65/100\n",
      "16/16 [==============================] - 42s 3s/step - loss: 0.0989 - acc: 0.9592 - val_loss: 1.6013 - val_acc: 0.9000\n",
      "Epoch 66/100\n",
      "16/16 [==============================] - 43s 3s/step - loss: 0.1009 - acc: 0.9624 - val_loss: 2.5789 - val_acc: 0.8400\n",
      "Epoch 67/100\n",
      "16/16 [==============================] - 43s 3s/step - loss: 0.1144 - acc: 0.9594 - val_loss: 1.9627 - val_acc: 0.8700\n",
      "Epoch 68/100\n",
      "16/16 [==============================] - 42s 3s/step - loss: 0.1513 - acc: 0.9436 - val_loss: 3.9888 - val_acc: 0.7300\n",
      "Epoch 69/100\n",
      "16/16 [==============================] - 46s 3s/step - loss: 0.1211 - acc: 0.9592 - val_loss: 1.6030 - val_acc: 0.9000\n",
      "Epoch 70/100\n",
      "16/16 [==============================] - 43s 3s/step - loss: 0.1500 - acc: 0.9436 - val_loss: 1.2754 - val_acc: 0.9200\n",
      "Epoch 71/100\n",
      "16/16 [==============================] - 41s 3s/step - loss: 0.1073 - acc: 0.9592 - val_loss: 1.1283 - val_acc: 0.9300\n",
      "Epoch 72/100\n",
      "16/16 [==============================] - 43s 3s/step - loss: 0.0945 - acc: 0.9624 - val_loss: 2.3914 - val_acc: 0.8500\n",
      "Epoch 73/100\n",
      "16/16 [==============================] - 42s 3s/step - loss: 0.1150 - acc: 0.9592 - val_loss: 1.6030 - val_acc: 0.9000\n",
      "Epoch 74/100\n",
      "16/16 [==============================] - 46s 3s/step - loss: 0.0963 - acc: 0.9718 - val_loss: 1.1195 - val_acc: 0.9300\n",
      "Epoch 75/100\n",
      "16/16 [==============================] - 42s 3s/step - loss: 0.1065 - acc: 0.9530 - val_loss: 1.8307 - val_acc: 0.8800\n",
      "Epoch 76/100\n",
      "16/16 [==============================] - 38s 2s/step - loss: 0.0826 - acc: 0.9718 - val_loss: 1.7624 - val_acc: 0.8900\n",
      "Epoch 77/100\n",
      "16/16 [==============================] - 40s 3s/step - loss: 0.1707 - acc: 0.9202 - val_loss: 2.1328 - val_acc: 0.8600\n",
      "Epoch 78/100\n",
      "16/16 [==============================] - 38s 2s/step - loss: 0.1277 - acc: 0.9296 - val_loss: 1.4436 - val_acc: 0.9100\n",
      "Epoch 79/100\n",
      "16/16 [==============================] - 42s 3s/step - loss: 0.0709 - acc: 0.9780 - val_loss: 1.2842 - val_acc: 0.9200\n",
      "Epoch 80/100\n",
      "16/16 [==============================] - 43s 3s/step - loss: 0.0970 - acc: 0.9686 - val_loss: 1.6048 - val_acc: 0.9000\n",
      "Epoch 81/100\n",
      "16/16 [==============================] - 40s 2s/step - loss: 0.0880 - acc: 0.9655 - val_loss: 1.2771 - val_acc: 0.9200\n",
      "Epoch 82/100\n",
      "16/16 [==============================] - 42s 3s/step - loss: 0.0630 - acc: 0.9780 - val_loss: 1.1195 - val_acc: 0.9300\n",
      "Epoch 83/100\n",
      "16/16 [==============================] - 41s 3s/step - loss: 0.0991 - acc: 0.9655 - val_loss: 1.7660 - val_acc: 0.8900\n",
      "Epoch 84/100\n",
      "16/16 [==============================] - 45s 3s/step - loss: 0.1367 - acc: 0.9594 - val_loss: 1.9256 - val_acc: 0.8800\n",
      "Epoch 85/100\n",
      "16/16 [==============================] - 42s 3s/step - loss: 0.1157 - acc: 0.9624 - val_loss: 1.2877 - val_acc: 0.9200\n",
      "Epoch 86/100\n",
      "16/16 [==============================] - 43s 3s/step - loss: 0.1785 - acc: 0.9624 - val_loss: 1.4401 - val_acc: 0.9100\n",
      "Epoch 87/100\n",
      "16/16 [==============================] - 45s 3s/step - loss: 0.0412 - acc: 0.9843 - val_loss: 1.7730 - val_acc: 0.8900\n",
      "Epoch 88/100\n",
      "16/16 [==============================] - 41s 3s/step - loss: 0.1381 - acc: 0.9296 - val_loss: 1.5804 - val_acc: 0.9000\n",
      "Epoch 89/100\n",
      "16/16 [==============================] - 43s 3s/step - loss: 0.0979 - acc: 0.9749 - val_loss: 1.4401 - val_acc: 0.9100\n",
      "Epoch 90/100\n",
      "16/16 [==============================] - 43s 3s/step - loss: 0.0714 - acc: 0.9718 - val_loss: 1.4418 - val_acc: 0.9100\n",
      "Epoch 91/100\n",
      "16/16 [==============================] - 40s 3s/step - loss: 0.0712 - acc: 0.9718 - val_loss: 1.4436 - val_acc: 0.9100\n",
      "Epoch 92/100\n",
      "16/16 [==============================] - 37s 2s/step - loss: 0.0652 - acc: 0.9843 - val_loss: 1.1195 - val_acc: 0.9300\n",
      "Epoch 93/100\n",
      "16/16 [==============================] - 37s 2s/step - loss: 0.0581 - acc: 0.9812 - val_loss: 1.4471 - val_acc: 0.9100\n",
      "Epoch 94/100\n",
      "16/16 [==============================] - 37s 2s/step - loss: 0.0561 - acc: 0.9843 - val_loss: 2.4072 - val_acc: 0.8500\n",
      "Epoch 95/100\n",
      "16/16 [==============================] - 37s 2s/step - loss: 0.1464 - acc: 0.9624 - val_loss: 1.6013 - val_acc: 0.9000\n",
      "Epoch 96/100\n",
      "16/16 [==============================] - 37s 2s/step - loss: 0.0534 - acc: 0.9812 - val_loss: 1.1212 - val_acc: 0.9300\n",
      "Epoch 97/100\n",
      "16/16 [==============================] - 44s 3s/step - loss: 0.0167 - acc: 0.9969 - val_loss: 1.7677 - val_acc: 0.8900\n",
      "Epoch 98/100\n",
      "16/16 [==============================] - 39s 2s/step - loss: 0.0494 - acc: 0.9812 - val_loss: 1.9148 - val_acc: 0.8800\n",
      "Epoch 99/100\n",
      "16/16 [==============================] - 39s 2s/step - loss: 0.0979 - acc: 0.9749 - val_loss: 1.3201 - val_acc: 0.9100\n",
      "Epoch 100/100\n",
      "16/16 [==============================] - 36s 2s/step - loss: 0.0726 - acc: 0.9780 - val_loss: 1.4366 - val_acc: 0.9100\n"
     ]
    },
    {
     "data": {
      "text/plain": [
       "<keras.callbacks.History at 0x1e100dbbf28>"
      ]
     },
     "execution_count": 41,
     "metadata": {},
     "output_type": "execute_result"
    }
   ],
   "source": [
    "model.fit_generator(trainBats,steps_per_epoch=16,validation_data=valisBats,validation_steps=5,epochs=100)"
   ]
  },
  {
   "cell_type": "code",
   "execution_count": 42,
   "metadata": {},
   "outputs": [],
   "source": [
    "model.save('gng_small.h5')"
   ]
  },
  {
   "cell_type": "code",
   "execution_count": 4,
   "metadata": {},
   "outputs": [
    {
     "name": "stdout",
     "output_type": "stream",
     "text": [
      "_________________________________________________________________\n",
      "Layer (type)                 Output Shape              Param #   \n",
      "=================================================================\n",
      "conv2d_28 (Conv2D)           (None, 148, 148, 32)      896       \n",
      "_________________________________________________________________\n",
      "max_pooling2d_28 (MaxPooling (None, 74, 74, 32)        0         \n",
      "_________________________________________________________________\n",
      "conv2d_29 (Conv2D)           (None, 72, 72, 64)        18496     \n",
      "_________________________________________________________________\n",
      "max_pooling2d_29 (MaxPooling (None, 36, 36, 64)        0         \n",
      "_________________________________________________________________\n",
      "conv2d_30 (Conv2D)           (None, 34, 34, 128)       73856     \n",
      "_________________________________________________________________\n",
      "max_pooling2d_30 (MaxPooling (None, 17, 17, 128)       0         \n",
      "_________________________________________________________________\n",
      "conv2d_31 (Conv2D)           (None, 15, 15, 128)       147584    \n",
      "_________________________________________________________________\n",
      "max_pooling2d_31 (MaxPooling (None, 7, 7, 128)         0         \n",
      "_________________________________________________________________\n",
      "flatten_8 (Flatten)          (None, 6272)              0         \n",
      "_________________________________________________________________\n",
      "dropout_2 (Dropout)          (None, 6272)              0         \n",
      "_________________________________________________________________\n",
      "dense_15 (Dense)             (None, 512)               3211776   \n",
      "_________________________________________________________________\n",
      "dense_16 (Dense)             (None, 1)                 513       \n",
      "=================================================================\n",
      "Total params: 3,453,121\n",
      "Trainable params: 3,453,121\n",
      "Non-trainable params: 0\n",
      "_________________________________________________________________\n"
     ]
    }
   ],
   "source": [
    "model = keras.models.load_model('gng_small.h5')\n",
    "model.summary()"
   ]
  },
  {
   "cell_type": "markdown",
   "metadata": {},
   "source": [
    "### 😍واخيرا الموديل اشتغل 😍"
   ]
  },
  {
   "cell_type": "code",
   "execution_count": 5,
   "metadata": {},
   "outputs": [
    {
     "data": {
      "image/png": "[encoded data removed]",
      "text/plain": [
       "<matplotlib.figure.Figure at 0x233be906518>"
      ]
     },
     "metadata": {
      "needs_background": "light"
     },
     "output_type": "display_data"
    }
   ],
   "source": [
    "import matplotlib.pyplot as plt\n",
    "image_path=\"Faces/0.jpg\"\n",
    "img = image.load_img(image_path, target_size=(150, 150))\n",
    "plt.imshow(img)\n",
    "img = np.expand_dims(img, axis=0)\n",
    "result=model.predict_classes(img)\n",
    "if result[0][0] == 0:\n",
    "    plt.title('with glasses')\n",
    "else:\n",
    "    plt.title('without glasses')\n",
    "\n",
    "plt.show()"
   ]
  },
  {
   "cell_type": "code",
   "execution_count": 7,
   "metadata": {
    "scrolled": true
   },
   "outputs": [
    {
     "data": {
      "image/png": "[encoded data removed]",
      "text/plain": [
       "<matplotlib.figure.Figure at 0x233c4c3be10>"
      ]
     },
     "metadata": {
      "needs_background": "light"
     },
     "output_type": "display_data"
    }
   ],
   "source": [
    "import matplotlib.pyplot as plt\n",
    "image_path=\"Faces/2.jpg\"\n",
    "img = image.load_img(image_path, target_size=(150, 150))\n",
    "plt.imshow(img)\n",
    "img = np.expand_dims(img, axis=0)\n",
    "result=model.predict_classes(img)\n",
    "if result[0][0] == 0:\n",
    "    plt.title('with glasses')\n",
    "else:\n",
    "    plt.title('without glasses')\n",
    "\n",
    "plt.show()"
   ]
  },
  {
   "cell_type": "markdown",
   "metadata": {},
   "source": [
    "### دا كود صغير عملته ايام الفيجن كنت باطلع بيه الوشوش من الصور"
   ]
  },
  {
   "cell_type": "code",
   "execution_count": 1,
   "metadata": {
    "code_folding": []
   },
   "outputs": [],
   "source": [
    "import cv2\n",
    "import glob\n",
    "import numpy as np\n",
    "import os\n",
    "\n",
    "face_cascade = cv2.CascadeClassifier('haarcascade_frontalface_alt2.xml')\n",
    "\n",
    "# مسار الصوره اللي عايز تطلع الوش منها\n",
    "i = 0\n",
    "path = os.path.join('test/', '*g')\n",
    "files = glob.glob(path)\n",
    "\n",
    "for fl in files:\n",
    "    img = cv2.imread(fl)\n",
    "    img = cv2.resize(img, (int(img.shape[1] / 2), int(img.shape[0] / 2)), 0, 0, cv2.INTER_LINEAR)\n",
    "    #img = img.astype(np.float32)\n",
    "    #if img.shape[1] >= 2000:\n",
    "     #   img = cv2.resize(img, (int(img.shape[1] / 2), int(img.shape[0] / 2)))\n",
    "    gray = cv2.cvtColor(img, cv2.COLOR_BGR2GRAY)\n",
    "\n",
    "    faces = face_cascade.detectMultiScale(gray, 1.5, 2)\n",
    "    for (x, y, w, h) in faces:\n",
    "        sub_face = img[y:y + h, x:x + w]\n",
    "        # هنا بيكريت اسم الصور الصغيره اللي بتطلع وبيحطهم في فولدر Faces\n",
    "        FaceFileName = 'Faces/' + str(i) + '.jpg'\n",
    "        cv2.imwrite(FaceFileName, sub_face)\n",
    "        i += 1\n",
    "\n",
    "    for (x, y, w, h) in faces:\n",
    "        img = cv2.rectangle(img, (x, y), (x + w, y + h), (255, 0, 0, 0), 1)\n",
    "\n"
   ]
  },
  {
   "cell_type": "code",
   "execution_count": null,
   "metadata": {},
   "outputs": [],
   "source": []
  }
 ],
 "metadata": {
  "kernelspec": {
   "display_name": "Python 3",
   "language": "python",
   "name": "python3"
  },
  "language_info": {
   "codemirror_mode": {
    "name": "ipython",
    "version": 3
   },
   "file_extension": ".py",
   "mimetype": "text/x-python",
   "name": "python",
   "nbconvert_exporter": "python",
   "pygments_lexer": "ipython3",
   "version": "3.6.8"
  }
 },
 "nbformat": 4,
 "nbformat_minor": 2
}
